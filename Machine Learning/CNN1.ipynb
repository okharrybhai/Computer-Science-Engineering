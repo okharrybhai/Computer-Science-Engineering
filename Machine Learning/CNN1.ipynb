{
 "cells": [
  {
   "cell_type": "markdown",
   "id": "65ecb259",
   "metadata": {},
   "source": [
    "## Importing Relevant Libraries"
   ]
  },
  {
   "cell_type": "code",
   "execution_count": 26,
   "id": "330a6fd0",
   "metadata": {},
   "outputs": [],
   "source": [
    "import tensorflow as tf\n",
    "import numpy as np\n",
    "from keras.preprocessing.image import ImageDataGenerator\n",
    "from keras.preprocessing import image"
   ]
  },
  {
   "cell_type": "markdown",
   "id": "83542386",
   "metadata": {},
   "source": [
    "# Data PreProcessing"
   ]
  },
  {
   "cell_type": "markdown",
   "id": "ef0ce899",
   "metadata": {},
   "source": [
    "## PreProcessing The Training DataSet"
   ]
  },
  {
   "cell_type": "code",
   "execution_count": 10,
   "id": "567bb165",
   "metadata": {},
   "outputs": [
    {
     "name": "stdout",
     "output_type": "stream",
     "text": [
      "Found 8000 images belonging to 2 classes.\n"
     ]
    }
   ],
   "source": [
    "train_datagen = ImageDataGenerator(rescale = 1./255, shear_range = 0.2, zoom_range = 0.2, horizontal_flip = True)\n",
    "training_set = train_datagen.flow_from_directory('training_set', target_size = (64, 64), batch_size = 32, class_mode = 'binary')"
   ]
  },
  {
   "cell_type": "markdown",
   "id": "32ee4147",
   "metadata": {},
   "source": [
    "## PreProcessing The Testing DataSet"
   ]
  },
  {
   "cell_type": "code",
   "execution_count": 11,
   "id": "e862074b",
   "metadata": {},
   "outputs": [
    {
     "name": "stdout",
     "output_type": "stream",
     "text": [
      "Found 2000 images belonging to 2 classes.\n"
     ]
    }
   ],
   "source": [
    "test_datagen = ImageDataGenerator(rescale = 1./255)\n",
    "test_set = test_datagen.flow_from_directory('test_set', target_size = (64,64), batch_size = 32, class_mode = 'binary')"
   ]
  },
  {
   "cell_type": "markdown",
   "id": "72f7bbcb",
   "metadata": {},
   "source": [
    "# Building The CNN"
   ]
  },
  {
   "cell_type": "markdown",
   "id": "2ea91b35",
   "metadata": {},
   "source": [
    "## Initialising The CNN"
   ]
  },
  {
   "cell_type": "code",
   "execution_count": 12,
   "id": "cec57374",
   "metadata": {},
   "outputs": [],
   "source": [
    "cnn = tf.keras.models.Sequential()"
   ]
  },
  {
   "cell_type": "markdown",
   "id": "76101daa",
   "metadata": {},
   "source": [
    "## Step - 1 : Convolution"
   ]
  },
  {
   "cell_type": "code",
   "execution_count": 13,
   "id": "f8d8174d",
   "metadata": {},
   "outputs": [],
   "source": [
    "cnn.add(tf.keras.layers.Conv2D(filters = 32, kernel_size = 3, activation = 'relu', input_shape =[64,64,3]))"
   ]
  },
  {
   "cell_type": "markdown",
   "id": "e5534874",
   "metadata": {},
   "source": [
    "## Step - 2: Pooling"
   ]
  },
  {
   "cell_type": "code",
   "execution_count": 15,
   "id": "0b117640",
   "metadata": {},
   "outputs": [],
   "source": [
    "cnn.add(tf.keras.layers.MaxPool2D(pool_size = 2, strides = 2))"
   ]
  },
  {
   "cell_type": "markdown",
   "id": "1fde7a68",
   "metadata": {},
   "source": [
    "## Adding A Second Convolution Layer"
   ]
  },
  {
   "cell_type": "code",
   "execution_count": 16,
   "id": "a670d5bb",
   "metadata": {},
   "outputs": [],
   "source": [
    "cnn.add(tf.keras.layers.Conv2D(filters = 32, kernel_size = 3, activation = 'relu'))\n",
    "cnn.add(tf.keras.layers.MaxPool2D(pool_size = 2, strides = 2))"
   ]
  },
  {
   "cell_type": "markdown",
   "id": "389a1cd8",
   "metadata": {},
   "source": [
    "## Step - 3: Flattening"
   ]
  },
  {
   "cell_type": "code",
   "execution_count": 17,
   "id": "9ba7ea45",
   "metadata": {},
   "outputs": [],
   "source": [
    "cnn.add(tf.keras.layers.Flatten())"
   ]
  },
  {
   "cell_type": "markdown",
   "id": "ad55950b",
   "metadata": {},
   "source": [
    "## Step-4: Full Connection"
   ]
  },
  {
   "cell_type": "code",
   "execution_count": 18,
   "id": "2723a751",
   "metadata": {},
   "outputs": [],
   "source": [
    "cnn.add(tf.keras.layers.Dense(units = 128, activation = 'relu'))"
   ]
  },
  {
   "cell_type": "markdown",
   "id": "b2468202",
   "metadata": {},
   "source": [
    "## Step- 5: Output Layer"
   ]
  },
  {
   "cell_type": "code",
   "execution_count": 19,
   "id": "18e01f03",
   "metadata": {},
   "outputs": [],
   "source": [
    "cnn.add(tf.keras.layers.Dense(units = 1, activation = 'sigmoid'))"
   ]
  },
  {
   "cell_type": "markdown",
   "id": "7269a3ad",
   "metadata": {},
   "source": [
    "# Training The CNN"
   ]
  },
  {
   "cell_type": "markdown",
   "id": "05d5669e",
   "metadata": {},
   "source": [
    "## Compiling The CNN"
   ]
  },
  {
   "cell_type": "code",
   "execution_count": 21,
   "id": "ece322a4",
   "metadata": {},
   "outputs": [],
   "source": [
    "cnn.compile(optimizer = 'adam', loss = 'binary_crossentropy', metrics = ['accuracy'])"
   ]
  },
  {
   "cell_type": "markdown",
   "id": "23d95f83",
   "metadata": {},
   "source": [
    "## Training The CNN On The Training Set And Evaluating It On The Test Set"
   ]
  },
  {
   "cell_type": "code",
   "execution_count": 23,
   "id": "ca0f17f6",
   "metadata": {},
   "outputs": [
    {
     "name": "stdout",
     "output_type": "stream",
     "text": [
      "Epoch 1/25\n",
      "250/250 [==============================] - 96s 375ms/step - loss: 0.6693 - accuracy: 0.5780 - val_loss: 0.6204 - val_accuracy: 0.6565\n",
      "Epoch 2/25\n",
      "250/250 [==============================] - 47s 189ms/step - loss: 0.5964 - accuracy: 0.6809 - val_loss: 0.5432 - val_accuracy: 0.7470\n",
      "Epoch 3/25\n",
      "250/250 [==============================] - 46s 183ms/step - loss: 0.5606 - accuracy: 0.7089 - val_loss: 0.5499 - val_accuracy: 0.7335\n",
      "Epoch 4/25\n",
      "250/250 [==============================] - 47s 186ms/step - loss: 0.5322 - accuracy: 0.7349 - val_loss: 0.5665 - val_accuracy: 0.7035\n",
      "Epoch 5/25\n",
      "250/250 [==============================] - 44s 175ms/step - loss: 0.5074 - accuracy: 0.7489 - val_loss: 0.5115 - val_accuracy: 0.7680\n",
      "Epoch 6/25\n",
      "250/250 [==============================] - 45s 182ms/step - loss: 0.4873 - accuracy: 0.7621 - val_loss: 0.4850 - val_accuracy: 0.7740\n",
      "Epoch 7/25\n",
      "250/250 [==============================] - 43s 174ms/step - loss: 0.4746 - accuracy: 0.7715 - val_loss: 0.4632 - val_accuracy: 0.7920\n",
      "Epoch 8/25\n",
      "250/250 [==============================] - 44s 175ms/step - loss: 0.4600 - accuracy: 0.7793 - val_loss: 0.4798 - val_accuracy: 0.7710\n",
      "Epoch 9/25\n",
      "250/250 [==============================] - 42s 168ms/step - loss: 0.4462 - accuracy: 0.7883 - val_loss: 0.4678 - val_accuracy: 0.7900\n",
      "Epoch 10/25\n",
      "250/250 [==============================] - 40s 158ms/step - loss: 0.4365 - accuracy: 0.7958 - val_loss: 0.4530 - val_accuracy: 0.8000\n",
      "Epoch 11/25\n",
      "250/250 [==============================] - 40s 159ms/step - loss: 0.4328 - accuracy: 0.7939 - val_loss: 0.4671 - val_accuracy: 0.7915\n",
      "Epoch 12/25\n",
      "250/250 [==============================] - 43s 171ms/step - loss: 0.4101 - accuracy: 0.8121 - val_loss: 0.4450 - val_accuracy: 0.8050\n",
      "Epoch 13/25\n",
      "250/250 [==============================] - 41s 162ms/step - loss: 0.4018 - accuracy: 0.8166 - val_loss: 0.4937 - val_accuracy: 0.7845\n",
      "Epoch 14/25\n",
      "250/250 [==============================] - 43s 173ms/step - loss: 0.3946 - accuracy: 0.8204 - val_loss: 0.4396 - val_accuracy: 0.8060\n",
      "Epoch 15/25\n",
      "250/250 [==============================] - 41s 162ms/step - loss: 0.3857 - accuracy: 0.8291 - val_loss: 0.4697 - val_accuracy: 0.8045\n",
      "Epoch 16/25\n",
      "250/250 [==============================] - 41s 162ms/step - loss: 0.3767 - accuracy: 0.8349 - val_loss: 0.4545 - val_accuracy: 0.8090\n",
      "Epoch 17/25\n",
      "250/250 [==============================] - 42s 166ms/step - loss: 0.3594 - accuracy: 0.8385 - val_loss: 0.4400 - val_accuracy: 0.8055\n",
      "Epoch 18/25\n",
      "250/250 [==============================] - 43s 171ms/step - loss: 0.3500 - accuracy: 0.8413 - val_loss: 0.4403 - val_accuracy: 0.8095\n",
      "Epoch 19/25\n",
      "250/250 [==============================] - 41s 165ms/step - loss: 0.3473 - accuracy: 0.8471 - val_loss: 0.4498 - val_accuracy: 0.8150\n",
      "Epoch 20/25\n",
      "250/250 [==============================] - 41s 163ms/step - loss: 0.3355 - accuracy: 0.8514 - val_loss: 0.4943 - val_accuracy: 0.7825\n",
      "Epoch 21/25\n",
      "250/250 [==============================] - 41s 165ms/step - loss: 0.3240 - accuracy: 0.8564 - val_loss: 0.5040 - val_accuracy: 0.7935\n",
      "Epoch 22/25\n",
      "250/250 [==============================] - 42s 169ms/step - loss: 0.3181 - accuracy: 0.8559 - val_loss: 0.4639 - val_accuracy: 0.7995\n",
      "Epoch 23/25\n",
      "250/250 [==============================] - 40s 162ms/step - loss: 0.3059 - accuracy: 0.8634 - val_loss: 0.4797 - val_accuracy: 0.8000\n",
      "Epoch 24/25\n",
      "250/250 [==============================] - 41s 166ms/step - loss: 0.3053 - accuracy: 0.8704 - val_loss: 0.4934 - val_accuracy: 0.7985\n",
      "Epoch 25/25\n",
      "250/250 [==============================] - 42s 166ms/step - loss: 0.3005 - accuracy: 0.8708 - val_loss: 0.4651 - val_accuracy: 0.8010\n"
     ]
    },
    {
     "data": {
      "text/plain": [
       "<keras.callbacks.History at 0x277d8cff1f0>"
      ]
     },
     "execution_count": 23,
     "metadata": {},
     "output_type": "execute_result"
    }
   ],
   "source": [
    "cnn.fit(x = training_set, validation_data = test_set, epochs = 25)"
   ]
  },
  {
   "cell_type": "markdown",
   "id": "ebf8f840",
   "metadata": {},
   "source": [
    "## Making A Single Prediction"
   ]
  },
  {
   "cell_type": "code",
   "execution_count": 28,
   "id": "4ce08134",
   "metadata": {},
   "outputs": [],
   "source": [
    "test_image = image.load_img('single_prediction/cat_or_dog_1.jpg', target_size = (64, 64))\n",
    "test_image = image.img_to_array(test_image)\n",
    "test_image = np.expand_dims(test_image, axis = 0)\n",
    "result = cnn.predict(test_image)\n",
    "training_set.class_indices\n",
    "if result[0][0] == 1:\n",
    "    prediction = 'dog'\n",
    "else:\n",
    "    prediction = 'cat'"
   ]
  },
  {
   "cell_type": "code",
   "execution_count": 29,
   "id": "6c261964",
   "metadata": {},
   "outputs": [
    {
     "name": "stdout",
     "output_type": "stream",
     "text": [
      "dog\n"
     ]
    }
   ],
   "source": [
    "print(prediction)"
   ]
  },
  {
   "cell_type": "code",
   "execution_count": null,
   "id": "50ac96ca",
   "metadata": {},
   "outputs": [],
   "source": []
  }
 ],
 "metadata": {
  "kernelspec": {
   "display_name": "Python 3 (ipykernel)",
   "language": "python",
   "name": "python3"
  },
  "language_info": {
   "codemirror_mode": {
    "name": "ipython",
    "version": 3
   },
   "file_extension": ".py",
   "mimetype": "text/x-python",
   "name": "python",
   "nbconvert_exporter": "python",
   "pygments_lexer": "ipython3",
   "version": "3.9.7"
  }
 },
 "nbformat": 4,
 "nbformat_minor": 5
}
